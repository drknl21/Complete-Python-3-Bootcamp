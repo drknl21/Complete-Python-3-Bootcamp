{
  "cells": [
    {
      "cell_type": "markdown",
      "metadata": {
        "id": "aFeYdhSCpsqe"
      },
      "source": [
        "# Milestone Project 2\n",
        "\n",
        "**Author:** Doruk Unal <dorukunal98@gmail.com> , https://www.linkedin.com/in/dorukunal/\n",
        "\n",
        "**Date:** 10.04.2022\n",
        "\n",
        "This code is a self-made example solution for the **_Milestone Project 2_** Blackjack game of the Complete Python Bootcamp course. See the link below for github page of the course:\n",
        "\n",
        "https://github.com/Pierian-Data/Complete-Python-3-Bootcamp"
      ]
    },
    {
      "cell_type": "code",
      "execution_count": 1,
      "metadata": {
        "id": "vA_MM6GBnVQc"
      },
      "outputs": [],
      "source": [
        "suits = ('Hearts', 'Diamonds', 'Spades', 'Clubs')\n",
        "ranks = ('Two', 'Three', 'Four', 'Five', 'Six', 'Seven', 'Eight', 'Nine', 'Ten', 'Jack', 'Queen', 'King', 'Ace')\n",
        "values = {'Two':2, 'Three':3, 'Four':4, 'Five':5, 'Six':6, 'Seven':7, 'Eight':8,\n",
        "        'Nine':9, 'Ten':10, 'Jack':10, 'Queen':10, 'King':10, 'Ace':11}\n",
        "\n",
        "import random"
      ]
    },
    {
      "cell_type": "code",
      "execution_count": 2,
      "metadata": {
        "id": "_b131WYxtLE7"
      },
      "outputs": [],
      "source": [
        "class player_balance():\n",
        "    def __init__(self,name,balance = 1000):\n",
        "        self.name = name\n",
        "        self.balance = balance\n",
        "\n",
        "    def lost(self,bet):\n",
        "        self.balance -= bet\n",
        "    \n",
        "    def won(self,bet):\n",
        "        self.balance += bet\n",
        "\n",
        "    def __str__(self):\n",
        "        return f'{self.name}, your current balance is: {self.balance}$'"
      ]
    },
    {
      "cell_type": "code",
      "execution_count": 3,
      "metadata": {
        "id": "qfDNcaPetQsc"
      },
      "outputs": [],
      "source": [
        "class Card:\n",
        "    def __init__(self,suit,rank):\n",
        "        self.suit = suit\n",
        "        self.rank = rank\n",
        "        \n",
        "    def __str__(self):\n",
        "        return self.rank + ' of ' + self.suit #main print this in 'for' to show cards"
      ]
    },
    {
      "cell_type": "code",
      "execution_count": 4,
      "metadata": {
        "id": "zIyQnwByO2tH"
      },
      "outputs": [],
      "source": [
        "class Deck:\n",
        "    def __init__(self):\n",
        "        self.deck = []\n",
        "        for suit in suits:\n",
        "            for rank in ranks:\n",
        "                self.deck.append(Card(suit,rank)) #create deck using the card class\n",
        "\n",
        "    def shuffle(self):\n",
        "        random.shuffle(self.deck) #shuffle the deck\n",
        "\n",
        "    def hit(self):\n",
        "        return self.deck.pop() #remove a card from the deck"
      ]
    },
    {
      "cell_type": "code",
      "execution_count": 5,
      "metadata": {
        "id": "pcD5CmtuTj_t"
      },
      "outputs": [],
      "source": [
        "class Player():\n",
        "    def __init__(self,name):\n",
        "        self.cards = []\n",
        "        self.name = name\n",
        "        self.points = 0\n",
        "        self.count_ace = 0\n",
        "\n",
        "    def hit_card(self,new_card):\n",
        "        self.cards.append(new_card)\n",
        "        self.points += values[new_card.rank]\n",
        "        if new_card.rank == 'Ace':\n",
        "            self.count_ace += 1\n",
        "        while self.points > 21 and self.count_ace:\n",
        "            self.points -= 10\n",
        "            self.count_ace -= 1        \n",
        "\n",
        "\n",
        "    def __str__(self):\n",
        "        inside_deck = ''\n",
        "        for card in self.cards:\n",
        "            inside_deck += '\\n '+card.__str__()\n",
        "        return f'{self.name} has:' + inside_deck"
      ]
    },
    {
      "cell_type": "code",
      "execution_count": 6,
      "metadata": {
        "id": "aWwlxiqNO2tJ"
      },
      "outputs": [],
      "source": [
        "class Dealer():\n",
        "    def __init__(self):\n",
        "        self.cards = []\n",
        "        self.printcalltime = 0\n",
        "        self.points = 0\n",
        "        self.count_ace = 0\n",
        "\n",
        "    def hit_card(self,new_card):\n",
        "        self.cards.append(new_card)\n",
        "        self.points += values[new_card.rank]\n",
        "        if new_card.rank == 'Ace':\n",
        "            self.count_ace += 1\n",
        "        while self.points > 21 and self.count_ace:\n",
        "            self.points -= 10\n",
        "            self.count_ace -= 1   \n",
        "            \n",
        "    def __str__(self):\n",
        "        inside_deck = ''\n",
        "        if self.printcalltime == 0:\n",
        "            inside_deck = '\\n <hidden card>'\n",
        "            for card in self.cards:\n",
        "                if card == self.cards[0]:\n",
        "                    pass\n",
        "                else:\n",
        "                    inside_deck += '\\n '+card.__str__()\n",
        "            self.printcalltime += 1\n",
        "        else:\n",
        "            for card in self.cards:\n",
        "                inside_deck += '\\n '+card.__str__()\n",
        "\n",
        "        return 'The Dealer has:' + inside_deck"
      ]
    },
    {
      "cell_type": "code",
      "source": [
        "def take_balance():\n",
        "    name = (input('Hello player, Welcome to Python BlackJack game! What is your name?')).capitalize()\n",
        "    while True:\n",
        "        try:\n",
        "            balance = int(input('How much money ($) do you have? (Please enter an integer.)'))\n",
        "        except:\n",
        "            print(\"Error! Please provide a number.\")\n",
        "            continue\n",
        "        else:\n",
        "            break\n",
        "            \n",
        "    return [name,balance]"
      ],
      "metadata": {
        "id": "FxkkNNV4O4Ym"
      },
      "execution_count": 7,
      "outputs": []
    },
    {
      "cell_type": "code",
      "source": [
        " def take_bet(balance):       \n",
        "    while True:\n",
        "        try:\n",
        "            bet = int(input('How much would you like to bet for this round? (Please enter an integer.)'))\n",
        "        except:\n",
        "            print('Error! Please provide a number.')\n",
        "            continue\n",
        "        else:\n",
        "            if(bet>balance):\n",
        "                print('Insufficient funds!')\n",
        "                continue\n",
        "            else:\n",
        "                print(f\"{bet}$ OK! Let's deal.\")\n",
        "                break\n",
        "                \n",
        "    return bet"
      ],
      "metadata": {
        "id": "CVSUXYrUPMWt"
      },
      "execution_count": 8,
      "outputs": []
    },
    {
      "cell_type": "code",
      "source": [
        "def hit_or_stay():\n",
        "    incorrect = True\n",
        "    while incorrect:\n",
        "        decision = (input('Hit or Stay?')).lower()\n",
        "        if not (decision == 'hit' or decision == 'stay'):\n",
        "            print('Please enter a correct value.')\n",
        "            continue\n",
        "        else:\n",
        "            break\n",
        "            \n",
        "    return decision"
      ],
      "metadata": {
        "id": "HThc7q4TQXdm"
      },
      "execution_count": 9,
      "outputs": []
    },
    {
      "cell_type": "code",
      "execution_count": 12,
      "metadata": {
        "id": "2vU3YC6Z6_hg"
      },
      "outputs": [],
      "source": [
        "def main():\n",
        "\n",
        "    [name,balance] = take_balance()\n",
        "\n",
        "    player_info = player_balance(name,balance)\n",
        "\n",
        "    game_on = True\n",
        "    while game_on:\n",
        "        print(player_info)\n",
        "\n",
        "        bet = take_bet(player_info.balance)\n",
        "\n",
        "        deck = Deck()\n",
        "        deck.shuffle()\n",
        "        player = Player(name)\n",
        "        dealer = Dealer()\n",
        "\n",
        "        for i in range(2):\n",
        "            player.hit_card(deck.hit())\n",
        "            dealer.hit_card(deck.hit())\n",
        "\n",
        "        print(player)\n",
        "        print(dealer)\n",
        "\n",
        "        not_lost = True\n",
        "        hit_on = True\n",
        "        won = False\n",
        "        \n",
        "        points_player = player.points\n",
        "        points_dealer = dealer.points\n",
        "\n",
        "        if points_player == 21:\n",
        "            print(\"Black Jack!\")\n",
        "            won = True\n",
        "        else:\n",
        "            while not_lost:\n",
        "                while hit_on:\n",
        "\n",
        "                    decision = hit_or_stay()\n",
        "\n",
        "                    if decision == 'hit':\n",
        "                        player.hit_card(deck.hit())\n",
        "                        print(player)\n",
        "                        points_player = player.points\n",
        "                        not_lost = (points_player < 22)\n",
        "                    elif decision == 'stay':\n",
        "                        break\n",
        "                    if  points_player == 21:\n",
        "                        print(\"Black Jack!\")\n",
        "                        won = True\n",
        "                        break\n",
        "                    if not_lost == False:\n",
        "                        break\n",
        "            \n",
        "                if not_lost == False:\n",
        "                    print('Your hand exceeds 21.')\n",
        "                elif won == False:\n",
        "                    print(dealer)\n",
        "                    while True:\n",
        "                        if points_dealer == 21:\n",
        "                            print('Dealer achieved Black Jack.')\n",
        "                            not_lost = False\n",
        "                            break\n",
        "                        elif points_dealer > 21:\n",
        "                            print(\"Dealer's hand exceeds 21.\")\n",
        "                            break\n",
        "                        elif points_player < points_dealer < 21:\n",
        "                            print('Dealer is closer to 21.')\n",
        "                            not_lost = False\n",
        "                            break\n",
        "                        dealer.hit_card(deck.hit())\n",
        "                        print(dealer)\n",
        "                        points_dealer = dealer.points\n",
        "                break\n",
        "        \n",
        "        if not_lost or won:\n",
        "            print(f'You won {bet}$.')\n",
        "            player_info.won(bet)\n",
        "        else:\n",
        "            print(f'You lost {bet}$.')\n",
        "            player_info.lost(bet)\n",
        "\n",
        "        while True:\n",
        "            answer = (input('Would you like to play again: Yes or No?')).lower()\n",
        "            if answer == 'no':\n",
        "                print(f'You now have {player_info.balance}$. Goodbye!')\n",
        "                game_on = False\n",
        "                break\n",
        "            elif answer == 'yes':\n",
        "                break\n",
        "            else:\n",
        "                print('Please enter a valid answer.')\n",
        "                continue\n",
        "        \n"
      ]
    },
    {
      "cell_type": "code",
      "execution_count": null,
      "metadata": {
        "id": "QZLZOyZ7Na95"
      },
      "outputs": [],
      "source": [
        "main()"
      ]
    }
  ],
  "metadata": {
    "colab": {
      "collapsed_sections": [],
      "name": "BlackJack_Project.ipynb",
      "provenance": []
    },
    "kernelspec": {
      "display_name": "Python 3",
      "language": "python",
      "name": "python3"
    },
    "language_info": {
      "codemirror_mode": {
        "name": "ipython",
        "version": 3
      },
      "file_extension": ".py",
      "mimetype": "text/x-python",
      "name": "python",
      "nbconvert_exporter": "python",
      "pygments_lexer": "ipython3",
      "version": "3.8.8"
    }
  },
  "nbformat": 4,
  "nbformat_minor": 0
}
