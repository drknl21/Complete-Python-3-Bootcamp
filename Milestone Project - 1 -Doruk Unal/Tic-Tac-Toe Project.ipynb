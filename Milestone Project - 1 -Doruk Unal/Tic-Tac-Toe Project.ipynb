{
 "cells": [
  {
   "cell_type": "markdown",
   "metadata": {
    "id": "CZCDf9xubWmo"
   },
   "source": [
    "# Milestone Project 1\n",
    "\n",
    "**Author:** Doruk Unal <dorukunal98@gmail.com> , <https://www.linkedin.com/in/dorukunal/>\n",
    "\n",
    "**Date:** 04.04.2022\n",
    "\n",
    "This code is a self-made example solution for the **_Milestone Project 1_** Tic-Tac-Toe game of the Complete Python Bootcamp course. See the [link] (<https://github.com/Pierian-Data/Complete-Python-3-Bootcamp>) for github page of the course.\n",
    "\n",
    "Please note that the draft provided by the instructor not used (to make things a bit difficult)."
   ]
  },
  {
   "cell_type": "code",
   "execution_count": null,
   "metadata": {
    "id": "TuAIbnGPI9ce"
   },
   "outputs": [],
   "source": [
    "def choose():\n",
    "    p1 = str(input()).upper()\n",
    "    p2 = ''\n",
    "    while not ((p1 == 'X') or (p1 == 'O')):\n",
    "        print(\"Your choice is incorrect. Please try again.\\n\")\n",
    "        p1 = str(input()).upper()\n",
    "    if p1 == 'X':\n",
    "        p2 = 'O'\n",
    "    else:\n",
    "        p2 = 'X'\n",
    "\n",
    "    return  [p1,p2]\n"
   ]
  },
  {
   "cell_type": "code",
   "execution_count": null,
   "metadata": {
    "id": "uVWGiT0jRUFY"
   },
   "outputs": [],
   "source": [
    "def play():\n",
    "    info = str(input()).lower()\n",
    "    while not ((info == 'yes') or (info == 'no')):\n",
    "        print(\"Your input is invalid. Please try again.\\n\")\n",
    "        info = str(input()).upper()\n",
    "    if info == 'yes':\n",
    "        return True\n",
    "    else:\n",
    "        return False"
   ]
  },
  {
   "cell_type": "code",
   "execution_count": null,
   "metadata": {
    "id": "l6_bK-xuSxxe"
   },
   "outputs": [],
   "source": [
    "def getposition(round_no,table):\n",
    "    round_no += 1\n",
    "    if round_no%2 == 1:\n",
    "        player = 1\n",
    "    else:\n",
    "        player = 2\n",
    "  \n",
    "    if round_no == 0:\n",
    "        player = 0\n",
    "        choice = 0\n",
    "    else:\n",
    "        print(\"Player {}, choose your next position: (1-9)\".format(player))\n",
    "        choice = input()\n",
    "        within_range = False\n",
    "        empty_cell = False\n",
    "        \n",
    "        while choice.isdigit() == False or within_range == False or empty_cell == False:\n",
    "            if choice.isdigit() == False:\n",
    "                print(\"Sorry that is not a digit!\")\n",
    "                choice = input()\n",
    "            if choice.isdigit() == True:\n",
    "                if int(choice) in range(1,10):\n",
    "                    within_range = True\n",
    "                    if not table[int(choice)-1] == ' ':\n",
    "                        empty_cell = False\n",
    "                        print(\"The cell is not empty. Please try another cell.\")\n",
    "                        choice = input()\n",
    "                    else:\n",
    "                        empty_cell = True\n",
    "                else:\n",
    "                    within_range = False\n",
    "                    print(\"Please enter a digit within range.\")\n",
    "                    choice = input()\n",
    "  \n",
    "    return [round_no,player,choice]"
   ]
  },
  {
   "cell_type": "code",
   "execution_count": null,
   "metadata": {
    "id": "0yaax7rEZGdU"
   },
   "outputs": [],
   "source": [
    "#6 7 8\n",
    "#3 4 5\n",
    "#0 1 2\n",
    "def printtable(player, choice, p1, p2, table):\n",
    "    if player == 1:\n",
    "        table[int(choice) -1] = p1\n",
    "    if player == 2:\n",
    "        table[int(choice) -1] = p2\n",
    "\n",
    "    for j in [2,1,0]:\n",
    "        print('{0:^3}|{1:^3}|{2:^3}'.format(table[3*j],table[3*j+1],table[3*j+2]))\n",
    "        if j == 2 or j == 1:\n",
    "            print('-----------')\n",
    "\n",
    "    return table"
   ]
  },
  {
   "cell_type": "code",
   "execution_count": null,
   "metadata": {
    "id": "lEqmMoU8vUVm"
   },
   "outputs": [],
   "source": [
    "def checkresults(table, player):\n",
    "    someone_won = False\n",
    "    no_one_won = False\n",
    "    for i in [0,3,6]:\n",
    "        if table[i]==table[i+1]==table[i+2]:\n",
    "            if not table[i]==' ':\n",
    "                someone_won = True\n",
    "    for i in [0,1,2]:\n",
    "        if table[i]==table[i+3]==table[i+6]:\n",
    "            if not table[i]==' ':\n",
    "                someone_won = True\n",
    "\n",
    "    if (table[0]==table[4]==table[8]) or (table[2]==table[4]==table[6]):\n",
    "        if not table[4]==' ':\n",
    "            someone_won = True\n",
    "            \n",
    "    if ' ' not in table:\n",
    "        no_one_won = True\n",
    "\n",
    "    if someone_won:\n",
    "        print(\"Congrats, Player {} won!\".format(player))\n",
    "        return False\n",
    "    elif no_one_won:\n",
    "        print(\"It's a tie!\")\n",
    "        return False\n",
    "    else:\n",
    "        return True"
   ]
  },
  {
   "cell_type": "code",
   "execution_count": null,
   "metadata": {
    "id": "54yVKOozOjXw"
   },
   "outputs": [],
   "source": [
    "def main():\n",
    "\n",
    "    playing = True\n",
    "    while playing:\n",
    "        player = 0\n",
    "        choice = 0\n",
    "        table = [' ',' ',' ',' ',' ',' ',' ',' ',' '] #range: 0-8\n",
    "        #from IPython.display import clear_output\n",
    "        #clear_output()\n",
    "        round_no = -1\n",
    "        print(\"Welcome to Tic Tac Toe game.\\n\\nPlayer 1, would you like to be X or O?\")\n",
    "        [p1,p2] = choose()\n",
    "        print(\"Player 1 will go first.\")\n",
    "        print(\"Are you ready to play? Enter Yes or No.\")\n",
    "        playing = play()\n",
    "\n",
    "        not_finished = True\n",
    "        while not_finished:\n",
    "            [round_no,player,choice] = getposition(round_no,table)\n",
    "            #from IPython.display import clear_output\n",
    "            #clear_output()\n",
    "            table = printtable(player,choice,p1,p2,table)\n",
    "            not_finished = checkresults(table,player)\n",
    "        print(\"Would you like to play again?\")\n",
    "        playing = play()\n",
    "    print(\"Goodbye!\")"
   ]
  },
  {
   "cell_type": "code",
   "execution_count": null,
   "metadata": {},
   "outputs": [],
   "source": [
    "main()"
   ]
  }
 ],
 "metadata": {
  "colab": {
   "authorship_tag": "ABX9TyP5NfZqF1AOKixkTueNmmnQ",
   "collapsed_sections": [],
   "name": "Tic-Tac-Toe Project.ipynb",
   "provenance": []
  },
  "kernelspec": {
   "display_name": "Python 3",
   "language": "python",
   "name": "python3"
  },
  "language_info": {
   "codemirror_mode": {
    "name": "ipython",
    "version": 3
   },
   "file_extension": ".py",
   "mimetype": "text/x-python",
   "name": "python",
   "nbconvert_exporter": "python",
   "pygments_lexer": "ipython3",
   "version": "3.8.8"
  }
 },
 "nbformat": 4,
 "nbformat_minor": 1
}
